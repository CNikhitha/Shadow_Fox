{
 "cells": [
  {
   "cell_type": "code",
   "execution_count": 1,
   "id": "f545cd92",
   "metadata": {},
   "outputs": [
    {
     "name": "stdout",
     "output_type": "stream",
     "text": [
      "Friends with name lengths:\n",
      "('Aditya', 6)\n",
      "('Rahul', 5)\n",
      "('Sneha', 5)\n",
      "('Priya', 5)\n",
      "('Vikram', 6)\n"
     ]
    }
   ],
   "source": [
    "# List of friends\n",
    "friends = [\"Aditya\", \"Rahul\", \"Sneha\", \"Priya\", \"Vikram\"]\n",
    "\n",
    "# Create list of tuples (name, length of name)\n",
    "name_lengths = [(name, len(name)) for name in friends]\n",
    "\n",
    "print(\"Friends with name lengths:\")\n",
    "for item in name_lengths:\n",
    "    print(item)"
   ]
  }
 ],
 "metadata": {
  "kernelspec": {
   "display_name": "Python 3",
   "language": "python",
   "name": "python3"
  },
  "language_info": {
   "codemirror_mode": {
    "name": "ipython",
    "version": 3
   },
   "file_extension": ".py",
   "mimetype": "text/x-python",
   "name": "python",
   "nbconvert_exporter": "python",
   "pygments_lexer": "ipython3",
   "version": "3.7.0"
  }
 },
 "nbformat": 4,
 "nbformat_minor": 5
}
