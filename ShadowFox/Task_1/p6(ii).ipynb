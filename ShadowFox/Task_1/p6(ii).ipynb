{
 "cells": [
  {
   "cell_type": "code",
   "execution_count": 1,
   "id": "ecd0cabc",
   "metadata": {},
   "outputs": [
    {
     "name": "stdout",
     "output_type": "stream",
     "text": [
      "Your total expenses: 3000\n",
      "Partner's total expenses: 3050\n",
      "Your partner spent more overall.\n",
      "Biggest spending difference is in 'Hotel' category: 200\n"
     ]
    }
   ],
   "source": [
    "# Your expenses\n",
    "your_expenses = {\n",
    "    \"Hotel\": 1200,\n",
    "    \"Food\": 800,\n",
    "    \"Transportation\": 500,\n",
    "    \"Attractions\": 300,\n",
    "    \"Miscellaneous\": 200\n",
    "}\n",
    "\n",
    "# Partner's expenses\n",
    "partner_expenses = {\n",
    "    \"Hotel\": 1000,\n",
    "    \"Food\": 900,\n",
    "    \"Transportation\": 600,\n",
    "    \"Attractions\": 400,\n",
    "    \"Miscellaneous\": 150\n",
    "}\n",
    "\n",
    "# Calculate totals\n",
    "your_total = sum(your_expenses.values())\n",
    "partner_total = sum(partner_expenses.values())\n",
    "\n",
    "print(f\"Your total expenses: {your_total}\")\n",
    "print(f\"Partner's total expenses: {partner_total}\")\n",
    "\n",
    "# Who spent more\n",
    "if your_total > partner_total:\n",
    "    print(\"You spent more overall.\")\n",
    "elif partner_total > your_total:\n",
    "    print(\"Your partner spent more overall.\")\n",
    "else:\n",
    "    print(\"Both spent the same amount.\")\n",
    "\n",
    "# Find category with significant difference\n",
    "max_difference = 0\n",
    "diff_category = \"\"\n",
    "\n",
    "for category in your_expenses:\n",
    "    difference = abs(your_expenses[category] - partner_expenses[category])\n",
    "    if difference > max_difference:\n",
    "        max_difference = difference\n",
    "        diff_category = category\n",
    "\n",
    "print(f\"Biggest spending difference is in '{diff_category}' category: {max_difference}\")\n"
   ]
  }
 ],
 "metadata": {
  "kernelspec": {
   "display_name": "Python 3",
   "language": "python",
   "name": "python3"
  },
  "language_info": {
   "codemirror_mode": {
    "name": "ipython",
    "version": 3
   },
   "file_extension": ".py",
   "mimetype": "text/x-python",
   "name": "python",
   "nbconvert_exporter": "python",
   "pygments_lexer": "ipython3",
   "version": "3.7.0"
  }
 },
 "nbformat": 4,
 "nbformat_minor": 5
}
