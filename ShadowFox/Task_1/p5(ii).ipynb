{
 "cells": [
  {
   "cell_type": "code",
   "execution_count": 1,
   "id": "b6882d40",
   "metadata": {},
   "outputs": [
    {
     "name": "stdout",
     "output_type": "stream",
     "text": [
      "You completed 10 jumping jacks.\n",
      "90 jumping jacks remaining.\n",
      "You completed 20 jumping jacks.\n",
      "You completed a total of 20 jumping jacks.\n"
     ]
    }
   ],
   "source": [
    "total_jumping_jacks = 100\n",
    "set_size = 10\n",
    "completed = 0\n",
    "for i in range(0, total_jumping_jacks, set_size):\n",
    "    completed += set_size\n",
    "    print(f\"You completed {completed} jumping jacks.\")\n",
    "    if completed >= total_jumping_jacks:\n",
    "        print(\"Congratulations! You completed the workout.\")\n",
    "        break\n",
    "    tired = input(\"Are you tired? (yes/y or no/n): \").strip().lower()\n",
    "    if tired in [\"yes\", \"y\"]:\n",
    "        skip = input(\"Do you want to skip the remaining sets? (yes/y or no/n): \").strip().lower()\n",
    "        if skip in [\"yes\", \"y\"]:\n",
    "            print(f\"You completed a total of {completed} jumping jacks.\")\n",
    "            break\n",
    "        else:\n",
    "            remaining = total_jumping_jacks - completed\n",
    "            print(f\"{remaining} jumping jacks remaining.\")\n",
    "    else:\n",
    "        remaining = total_jumping_jacks - completed\n",
    "        print(f\"{remaining} jumping jacks remaining.\")"
   ]
  }
 ],
 "metadata": {
  "kernelspec": {
   "display_name": "Python 3",
   "language": "python",
   "name": "python3"
  },
  "language_info": {
   "codemirror_mode": {
    "name": "ipython",
    "version": 3
   },
   "file_extension": ".py",
   "mimetype": "text/x-python",
   "name": "python",
   "nbconvert_exporter": "python",
   "pygments_lexer": "ipython3",
   "version": "3.7.0"
  }
 },
 "nbformat": 4,
 "nbformat_minor": 5
}
