{
 "cells": [
  {
   "cell_type": "code",
   "execution_count": 1,
   "id": "10c03e69",
   "metadata": {},
   "outputs": [
    {
     "name": "stdout",
     "output_type": "stream",
     "text": [
      "Apple iPhone 13: 4GB RAM, 128GB storage, 5G network\n",
      "Calling 9876543210...\n",
      "Taking selfie with 12MP front camera.\n",
      "Samsung Galaxy S21: 4GB RAM, 128GB storage, 5G network\n",
      "Incoming call...\n",
      "Taking picture with 48MP rear camera.\n"
     ]
    }
   ],
   "source": [
    "# Base Class\n",
    "class MobilePhone:\n",
    "    def __init__(self, screen_type, network_type, dual_sim, front_camera, rear_camera, ram, storage):\n",
    "        self.screen_type = screen_type\n",
    "        self.network_type = network_type\n",
    "        self.dual_sim = dual_sim\n",
    "        self.front_camera = front_camera\n",
    "        self.rear_camera = rear_camera\n",
    "        self.ram = ram\n",
    "        self.storage = storage\n",
    "\n",
    "    def make_call(self, number):\n",
    "        print(f\"Calling {number}...\")\n",
    "\n",
    "    def receive_call(self):\n",
    "        print(\"Incoming call...\")\n",
    "\n",
    "    def take_a_picture(self, camera_type=\"rear\"):\n",
    "        if camera_type.lower() == \"rear\":\n",
    "            print(f\"Taking picture with {self.rear_camera} rear camera.\")\n",
    "        else:\n",
    "            print(f\"Taking selfie with {self.front_camera} front camera.\")\n",
    "\n",
    "\n",
    "# Child Class - Apple\n",
    "class Apple(MobilePhone):\n",
    "    def __init__(self, model, screen_type, network_type, dual_sim, front_camera, rear_camera, ram, storage):\n",
    "        super().__init__(screen_type, network_type, dual_sim, front_camera, rear_camera, ram, storage)\n",
    "        self.model = model\n",
    "\n",
    "    def show_details(self):\n",
    "        print(f\"Apple {self.model}: {self.ram} RAM, {self.storage} storage, {self.network_type} network\")\n",
    "\n",
    "\n",
    "# Child Class - Samsung\n",
    "class Samsung(MobilePhone):\n",
    "    def __init__(self, model, screen_type, network_type, dual_sim, front_camera, rear_camera, ram, storage):\n",
    "        super().__init__(screen_type, network_type, dual_sim, front_camera, rear_camera, ram, storage)\n",
    "        self.model = model\n",
    "\n",
    "    def show_details(self):\n",
    "        print(f\"Samsung {self.model}: {self.ram} RAM, {self.storage} storage, {self.network_type} network\")\n",
    "\n",
    "\n",
    "# Creating Apple objects\n",
    "iphone13 = Apple(\"iPhone 13\", \"Touch Screen\", \"5G\", False, \"12MP\", \"48MP\", \"4GB\", \"128GB\")\n",
    "iphoneSE = Apple(\"iPhone SE\", \"Touch Screen\", \"4G\", False, \"8MP\", \"12MP\", \"3GB\", \"64GB\")\n",
    "\n",
    "# Creating Samsung objects\n",
    "samsungS21 = Samsung(\"Galaxy S21\", \"Touch Screen\", \"5G\", True, \"16MP\", \"48MP\", \"4GB\", \"128GB\")\n",
    "samsungA50 = Samsung(\"Galaxy A50\", \"Touch Screen\", \"4G\", True, \"12MP\", \"32MP\", \"3GB\", \"64GB\")\n",
    "\n",
    "# Example Usage\n",
    "iphone13.show_details()\n",
    "iphone13.make_call(\"9876543210\")\n",
    "iphone13.take_a_picture(\"front\")\n",
    "\n",
    "samsungS21.show_details()\n",
    "samsungS21.receive_call()\n",
    "samsungS21.take_a_picture()\n"
   ]
  }
 ],
 "metadata": {
  "kernelspec": {
   "display_name": "Python 3",
   "language": "python",
   "name": "python3"
  },
  "language_info": {
   "codemirror_mode": {
    "name": "ipython",
    "version": 3
   },
   "file_extension": ".py",
   "mimetype": "text/x-python",
   "name": "python",
   "nbconvert_exporter": "python",
   "pygments_lexer": "ipython3",
   "version": "3.7.0"
  }
 },
 "nbformat": 4,
 "nbformat_minor": 5
}
