{
 "cells": [
  {
   "cell_type": "code",
   "execution_count": 3,
   "id": "308a0cfb",
   "metadata": {},
   "outputs": [
    {
     "name": "stdout",
     "output_type": "stream",
     "text": [
      "✅ CSV files created successfully!\n",
      "      Name  Math  Science  English  total_marks    average\n",
      "0    Alice    85       90       78          253  84.333333\n",
      "1      Bob    70       88       82          240  80.000000\n",
      "2  Charlie    95       92       89          276  92.000000\n",
      "3    David    60       75       70          205  68.333333\n",
      "4      Eve    88       84       91          263  87.666667\n"
     ]
    }
   ],
   "source": [
    "import pandas as pd\n",
    "\n",
    "data = {\n",
    "    \"Name\": [\"Alice\", \"Bob\", \"Charlie\", \"David\", \"Eve\"],\n",
    "    \"Math\": [85, 70, 95, 60, 88],\n",
    "    \"Science\": [90, 88, 92, 75, 84],\n",
    "    \"English\": [78, 82, 89, 70, 91]\n",
    "}\n",
    "\n",
    "df = pd.DataFrame(data)\n",
    "df.to_csv(\"student_marks.csv\", index=False)\n",
    "\n",
    "df = pd.read_csv(\"student_marks.csv\")\n",
    "\n",
    "marks_columns = [col for col in df.columns if col != \"Name\"]\n",
    "df[\"total_marks\"] = df[marks_columns].sum(axis=1)\n",
    "df[\"average\"] = df[marks_columns].mean(axis=1)\n",
    "\n",
    "df.to_csv(\"student_marks_with_totals.csv\", index=False)\n",
    "\n",
    "print(\"✅ CSV files created successfully!\")\n",
    "print(df)"
   ]
  }
 ],
 "metadata": {
  "kernelspec": {
   "display_name": "Python 3",
   "language": "python",
   "name": "python3"
  },
  "language_info": {
   "codemirror_mode": {
    "name": "ipython",
    "version": 3
   },
   "file_extension": ".py",
   "mimetype": "text/x-python",
   "name": "python",
   "nbconvert_exporter": "python",
   "pygments_lexer": "ipython3",
   "version": "3.7.0"
  }
 },
 "nbformat": 4,
 "nbformat_minor": 5
}
