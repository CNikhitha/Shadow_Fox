{
 "cells": [
  {
   "cell_type": "code",
   "execution_count": 3,
   "id": "f3817088",
   "metadata": {},
   "outputs": [
    {
     "name": "stdout",
     "output_type": "stream",
     "text": [
      "📌 Latest Python Blogs:\n",
      "\n",
      "Unmasking Phantom Dependencies with Software Bill-of-Materials as Ecosystem Neutral Metadata -> https://pyfound.blogspot.com/2025/08/unmasking-phantom-dependencies-with.html\n",
      "Python 3.13.6 is now available -> https://pythoninsider.blogspot.com/2025/08/python-3136-is-now-available.html\n",
      "The PSF has paused our Grants Program -> https://pyfound.blogspot.com/2025/08/the-psf-has-paused-our-grants-program.html\n",
      "PSF Board Election Nominations Opening July 29th -> https://pyfound.blogspot.com/2025/07/psf-board-nominations-opening-july-29th.html\n",
      "Python 3.14 release candidate 1 is go! -> https://pythoninsider.blogspot.com/2025/07/python-314-release-candidate-1-is-go.html\n"
     ]
    }
   ],
   "source": [
    "import requests\n",
    "from bs4 import BeautifulSoup\n",
    "\n",
    "def scrape_python_blogs(limit=5):\n",
    "    url = \"https://www.python.org/blogs/\"\n",
    "    response = requests.get(url, timeout=5)\n",
    "    if response.status_code != 200:\n",
    "        return f\"❌ Failed to retrieve webpage. Status: {response.status_code}\"\n",
    "    soup = BeautifulSoup(response.text, 'html.parser')\n",
    "    blogs = soup.select(\"ul.list-recent-posts li a\")\n",
    "    print(\"📌 Latest Python Blogs:\\n\")\n",
    "    for blog in blogs[:limit]:\n",
    "        title = blog.get_text(strip=True)\n",
    "        link = blog['href']\n",
    "        if not link.startswith(\"http\"):\n",
    "            link = \"https://www.python.org\" + link\n",
    "        print(f\"{title} -> {link}\")\n",
    "\n",
    "scrape_python_blogs()\n"
   ]
  }
 ],
 "metadata": {
  "kernelspec": {
   "display_name": "Python 3",
   "language": "python",
   "name": "python3"
  },
  "language_info": {
   "codemirror_mode": {
    "name": "ipython",
    "version": 3
   },
   "file_extension": ".py",
   "mimetype": "text/x-python",
   "name": "python",
   "nbconvert_exporter": "python",
   "pygments_lexer": "ipython3",
   "version": "3.7.0"
  }
 },
 "nbformat": 4,
 "nbformat_minor": 5
}
