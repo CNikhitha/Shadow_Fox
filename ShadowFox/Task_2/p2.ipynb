{
 "cells": [
  {
   "cell_type": "code",
   "execution_count": 8,
   "id": "f2eedcb6",
   "metadata": {},
   "outputs": [
    {
     "name": "stdout",
     "output_type": "stream",
     "text": [
      "🎯 Welcome to Hangman!\n",
      "💡 Hint: A classic word guessing game 🎯\n",
      "_ _ _ _ _ _ _\n",
      "h _ _ _ _ _ _\n",
      "h a _ _ _ a _\n",
      "h a n _ _ a n\n",
      "h a n g _ a n\n",
      "h a n g m a n\n",
      "🏆 You guessed it! The word was: hangman\n"
     ]
    }
   ],
   "source": [
    "import random\n",
    "import sys\n",
    "\n",
    "def hangman():\n",
    "    words_with_hints = {\n",
    "        \"python\": \"A popular programming language 🐍\",\n",
    "        \"java\": \"A widely used programming language ☕\",\n",
    "        \"computer\": \"An electronic device for processing data 💻\",\n",
    "        \"internet\": \"A global system of interconnected computers 🌐\",\n",
    "        \"hangman\": \"A classic word guessing game 🎯\"\n",
    "    }\n",
    "    word, hint = random.choice(list(words_with_hints.items()))\n",
    "    guessed = set()\n",
    "    attempts = 6\n",
    "\n",
    "    print(\"🎯 Welcome to Hangman!\")\n",
    "    print(f\"💡 Hint: {hint}\")\n",
    "\n",
    "    while attempts > 0:\n",
    "        display = [letter if letter in guessed else \"_\" for letter in word]\n",
    "        print(\" \".join(display))\n",
    "        sys.stdout.flush()  # Force output before waiting for input\n",
    "\n",
    "        if \"_\" not in display:\n",
    "            print(\"🏆 You guessed it! The word was:\", word)\n",
    "            break\n",
    "\n",
    "        guess = input(\"Guess a letter: \").lower()\n",
    "        if not guess.isalpha() or len(guess) != 1:\n",
    "            print(\"❌ Please enter a single letter.\")\n",
    "            continue\n",
    "        if guess in guessed:\n",
    "            print(\"⚠️ You already guessed that letter.\")\n",
    "            continue\n",
    "\n",
    "        guessed.add(guess)\n",
    "        if guess not in word:\n",
    "            attempts -= 1\n",
    "            print(f\"❌ Wrong! {attempts} attempts left.\")\n",
    "\n",
    "    else:\n",
    "        print(f\"💀 Game Over! The word was: {word}\")\n",
    "\n",
    "hangman()\n"
   ]
  }
 ],
 "metadata": {
  "kernelspec": {
   "display_name": "Python 3",
   "language": "python",
   "name": "python3"
  },
  "language_info": {
   "codemirror_mode": {
    "name": "ipython",
    "version": 3
   },
   "file_extension": ".py",
   "mimetype": "text/x-python",
   "name": "python",
   "nbconvert_exporter": "python",
   "pygments_lexer": "ipython3",
   "version": "3.7.0"
  }
 },
 "nbformat": 4,
 "nbformat_minor": 5
}
